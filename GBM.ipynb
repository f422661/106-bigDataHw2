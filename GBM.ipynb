{
 "cells": [
  {
   "cell_type": "code",
   "execution_count": 1,
   "metadata": {
    "collapsed": false
   },
   "outputs": [
    {
     "name": "stderr",
     "output_type": "stream",
     "text": [
      "/home/user/anaconda2/lib/python2.7/site-packages/sklearn/cross_validation.py:44: DeprecationWarning: This module was deprecated in version 0.18 in favor of the model_selection module into which all the refactored classes and functions are moved. Also note that the interface of the new CV iterators are different from that of this module. This module will be removed in 0.20.\n",
      "  \"This module will be removed in 0.20.\", DeprecationWarning)\n",
      "/home/user/anaconda2/lib/python2.7/site-packages/sklearn/grid_search.py:43: DeprecationWarning: This module was deprecated in version 0.18 in favor of the model_selection module into which all the refactored classes and functions are moved. This module will be removed in 0.20.\n",
      "  DeprecationWarning)\n"
     ]
    }
   ],
   "source": [
    "import pandas as pd\n",
    "import numpy as np\n",
    "from sklearn.ensemble import GradientBoostingClassifier  #GBM algorithm\n",
    "from sklearn import cross_validation, metrics   #Additional scklearn functions\n",
    "from sklearn.grid_search import GridSearchCV   #Perforing grid search\n",
    "\n",
    "data = pd.read_csv(\"LargeTrain.csv\")\n",
    "label = 'Class'\n",
    "features = [x for x in data.columns if x != label]"
   ]
  },
  {
   "cell_type": "code",
   "execution_count": 2,
   "metadata": {
    "collapsed": true
   },
   "outputs": [],
   "source": [
    "param_test1 = {'n_estimators':range(20,81,10)}\n",
    "gsearch1 = GridSearchCV(estimator = GradientBoostingClassifier(learning_rate=0.1, min_samples_split=500,min_samples_leaf=50,max_depth=8,max_features='sqrt',subsample=0.8,random_state=10), \n",
    "param_grid = param_test1,n_jobs=4,iid=False, cv=5)"
   ]
  },
  {
   "cell_type": "code",
   "execution_count": 3,
   "metadata": {
    "collapsed": false
   },
   "outputs": [
    {
     "data": {
      "text/plain": [
       "GridSearchCV(cv=5, error_score='raise',\n",
       "       estimator=GradientBoostingClassifier(criterion='friedman_mse', init=None,\n",
       "              learning_rate=0.1, loss='deviance', max_depth=8,\n",
       "              max_features='sqrt', max_leaf_nodes=None,\n",
       "              min_impurity_split=1e-07, min_samples_leaf=50,\n",
       "              min_samples_split=500, min_weight_fraction_leaf=0.0,\n",
       "              n_estimators=100, presort='auto', random_state=10,\n",
       "              subsample=0.8, verbose=0, warm_start=False),\n",
       "       fit_params={}, iid=False, n_jobs=4,\n",
       "       param_grid={'n_estimators': [20, 30, 40, 50, 60, 70, 80]},\n",
       "       pre_dispatch='2*n_jobs', refit=True, scoring=None, verbose=0)"
      ]
     },
     "execution_count": 3,
     "metadata": {},
     "output_type": "execute_result"
    }
   ],
   "source": [
    "gsearch1.fit(data[features],data[label])"
   ]
  },
  {
   "cell_type": "code",
   "execution_count": 4,
   "metadata": {
    "collapsed": false
   },
   "outputs": [
    {
     "data": {
      "text/plain": [
       "([mean: 0.98611, std: 0.00107, params: {'n_estimators': 20},\n",
       "  mean: 0.99043, std: 0.00090, params: {'n_estimators': 30},\n",
       "  mean: 0.99356, std: 0.00101, params: {'n_estimators': 40},\n",
       "  mean: 0.99402, std: 0.00105, params: {'n_estimators': 50},\n",
       "  mean: 0.99439, std: 0.00118, params: {'n_estimators': 60},\n",
       "  mean: 0.99457, std: 0.00094, params: {'n_estimators': 70},\n",
       "  mean: 0.99476, std: 0.00107, params: {'n_estimators': 80}],\n",
       " {'n_estimators': 80},\n",
       " 0.9947560298930804)"
      ]
     },
     "execution_count": 4,
     "metadata": {},
     "output_type": "execute_result"
    }
   ],
   "source": [
    "gsearch1.grid_scores_, gsearch1.best_params_, gsearch1.best_score_"
   ]
  },
  {
   "cell_type": "code",
   "execution_count": 5,
   "metadata": {
    "collapsed": false
   },
   "outputs": [
    {
     "ename": "NameError",
     "evalue": "name 'train' is not defined",
     "output_type": "error",
     "traceback": [
      "\u001b[0;31m---------------------------------------------------------------------------\u001b[0m",
      "\u001b[0;31mNameError\u001b[0m                                 Traceback (most recent call last)",
      "\u001b[0;32m<ipython-input-5-27eae09216e2>\u001b[0m in \u001b[0;36m<module>\u001b[0;34m()\u001b[0m\n\u001b[1;32m      3\u001b[0m grid2 = GridSearchCV(estimator = GradientBoostingClassifier(learning_rate=0.1, n_estimators=60, max_features='sqrt', subsample=0.8, random_state=10), \n\u001b[1;32m      4\u001b[0m param_grid = param_test2, scoring='roc_auc',n_jobs=4,iid=False, cv=5)\n\u001b[0;32m----> 5\u001b[0;31m \u001b[0mgrid2\u001b[0m\u001b[0;34m.\u001b[0m\u001b[0mfit\u001b[0m\u001b[0;34m(\u001b[0m\u001b[0mtrain\u001b[0m\u001b[0;34m[\u001b[0m\u001b[0mpredictors\u001b[0m\u001b[0;34m]\u001b[0m\u001b[0;34m,\u001b[0m\u001b[0mtrain\u001b[0m\u001b[0;34m[\u001b[0m\u001b[0mtarget\u001b[0m\u001b[0;34m]\u001b[0m\u001b[0;34m)\u001b[0m\u001b[0;34m\u001b[0m\u001b[0m\n\u001b[0m\u001b[1;32m      6\u001b[0m \u001b[0mgrid2\u001b[0m\u001b[0;34m.\u001b[0m\u001b[0mgrid_scores_\u001b[0m\u001b[0;34m,\u001b[0m \u001b[0mgrid2\u001b[0m\u001b[0;34m.\u001b[0m\u001b[0mbest_params_\u001b[0m\u001b[0;34m,\u001b[0m \u001b[0mgrid2\u001b[0m\u001b[0;34m.\u001b[0m\u001b[0mbest_score_\u001b[0m\u001b[0;34m\u001b[0m\u001b[0m\n",
      "\u001b[0;31mNameError\u001b[0m: name 'train' is not defined"
     ]
    }
   ],
   "source": [
    "param_test2 = {'max_depth':range(5,16,2), 'min_samples_split':range(200,1001,200)}\n",
    "\n",
    "grid2 = GridSearchCV(estimator = GradientBoostingClassifier(learning_rate=0.1, n_estimators=60, max_features='sqrt', subsample=0.8, random_state=10), \n",
    "param_grid = param_test2, scoring='roc_auc',n_jobs=4,iid=False, cv=5)\n",
    "grid2.fit(train[predictors],train[target])\n",
    "grid2.grid_scores_, grid2.best_params_, grid2.best_score_"
   ]
  },
  {
   "cell_type": "code",
   "execution_count": 6,
   "metadata": {
    "collapsed": false
   },
   "outputs": [
    {
     "data": {
      "text/plain": [
       "([mean: 0.99503, std: 0.00079, params: {'min_samples_split': 200, 'max_depth': 5},\n",
       "  mean: 0.99457, std: 0.00094, params: {'min_samples_split': 400, 'max_depth': 5},\n",
       "  mean: 0.99503, std: 0.00067, params: {'min_samples_split': 600, 'max_depth': 5},\n",
       "  mean: 0.99512, std: 0.00085, params: {'min_samples_split': 800, 'max_depth': 5},\n",
       "  mean: 0.99494, std: 0.00101, params: {'min_samples_split': 1000, 'max_depth': 5},\n",
       "  mean: 0.99503, std: 0.00045, params: {'min_samples_split': 200, 'max_depth': 7},\n",
       "  mean: 0.99503, std: 0.00045, params: {'min_samples_split': 400, 'max_depth': 7},\n",
       "  mean: 0.99503, std: 0.00079, params: {'min_samples_split': 600, 'max_depth': 7},\n",
       "  mean: 0.99494, std: 0.00104, params: {'min_samples_split': 800, 'max_depth': 7},\n",
       "  mean: 0.99476, std: 0.00125, params: {'min_samples_split': 1000, 'max_depth': 7},\n",
       "  mean: 0.99577, std: 0.00102, params: {'min_samples_split': 200, 'max_depth': 9},\n",
       "  mean: 0.99549, std: 0.00118, params: {'min_samples_split': 400, 'max_depth': 9},\n",
       "  mean: 0.99494, std: 0.00092, params: {'min_samples_split': 600, 'max_depth': 9},\n",
       "  mean: 0.99457, std: 0.00094, params: {'min_samples_split': 800, 'max_depth': 9},\n",
       "  mean: 0.99531, std: 0.00121, params: {'min_samples_split': 1000, 'max_depth': 9},\n",
       "  mean: 0.99568, std: 0.00090, params: {'min_samples_split': 200, 'max_depth': 11},\n",
       "  mean: 0.99503, std: 0.00114, params: {'min_samples_split': 400, 'max_depth': 11},\n",
       "  mean: 0.99494, std: 0.00092, params: {'min_samples_split': 600, 'max_depth': 11},\n",
       "  mean: 0.99466, std: 0.00132, params: {'min_samples_split': 800, 'max_depth': 11},\n",
       "  mean: 0.99522, std: 0.00090, params: {'min_samples_split': 1000, 'max_depth': 11},\n",
       "  mean: 0.99540, std: 0.00127, params: {'min_samples_split': 200, 'max_depth': 13},\n",
       "  mean: 0.99549, std: 0.00079, params: {'min_samples_split': 400, 'max_depth': 13},\n",
       "  mean: 0.99466, std: 0.00085, params: {'min_samples_split': 600, 'max_depth': 13},\n",
       "  mean: 0.99485, std: 0.00131, params: {'min_samples_split': 800, 'max_depth': 13},\n",
       "  mean: 0.99485, std: 0.00094, params: {'min_samples_split': 1000, 'max_depth': 13},\n",
       "  mean: 0.99549, std: 0.00114, params: {'min_samples_split': 200, 'max_depth': 15},\n",
       "  mean: 0.99531, std: 0.00094, params: {'min_samples_split': 400, 'max_depth': 15},\n",
       "  mean: 0.99485, std: 0.00053, params: {'min_samples_split': 600, 'max_depth': 15},\n",
       "  mean: 0.99512, std: 0.00119, params: {'min_samples_split': 800, 'max_depth': 15},\n",
       "  mean: 0.99522, std: 0.00107, params: {'min_samples_split': 1000, 'max_depth': 15}],\n",
       " {'max_depth': 9, 'min_samples_split': 200},\n",
       " 0.9957673992382359)"
      ]
     },
     "execution_count": 6,
     "metadata": {},
     "output_type": "execute_result"
    }
   ],
   "source": [
    "grid2 = GridSearchCV(estimator = GradientBoostingClassifier(learning_rate=0.1, n_estimators=80, max_features='sqrt', subsample=0.8, random_state=10), \n",
    "param_grid = param_test2,n_jobs=4,iid=False, cv=5)\n",
    "grid2.fit(data[features],data[label])\n",
    "grid2.grid_scores_, grid2.best_params_, grid2.best_score_"
   ]
  },
  {
   "cell_type": "code",
   "execution_count": 7,
   "metadata": {
    "collapsed": false
   },
   "outputs": [
    {
     "ename": "SyntaxError",
     "evalue": "invalid syntax (<ipython-input-7-734d649145fe>, line 2)",
     "output_type": "error",
     "traceback": [
      "\u001b[0;36m  File \u001b[0;32m\"<ipython-input-7-734d649145fe>\"\u001b[0;36m, line \u001b[0;32m2\u001b[0m\n\u001b[0;31m    grid3 = GridSearchCV(estimator = GradientBoostingClassifier(learning_rate=0.1, n_estimators=80,max_depth =9,min_samples_split=200 max_features='sqrt', subsample=0.8, random_state=10),\u001b[0m\n\u001b[0m                                                                                                                                                 ^\u001b[0m\n\u001b[0;31mSyntaxError\u001b[0m\u001b[0;31m:\u001b[0m invalid syntax\n"
     ]
    }
   ],
   "source": [
    "param_test3 = {'min_samples_leaf':range(30,71,10)}\n",
    "grid3 = GridSearchCV(estimator = GradientBoostingClassifier(learning_rate=0.1, n_estimators=80,max_depth =9,min_samples_split=200 max_features='sqrt', subsample=0.8, random_state=10), \n",
    "param_grid = param_test2,n_jobs=4,iid=False, cv=5)\n",
    "grid3.fit(data[features],data[label])\n",
    "grid3.grid_scores_, grid3.best_params_, grid3.best_score_"
   ]
  },
  {
   "cell_type": "code",
   "execution_count": 8,
   "metadata": {
    "collapsed": false
   },
   "outputs": [
    {
     "data": {
      "text/plain": [
       "([mean: 0.99512, std: 0.00125, params: {'min_samples_leaf': 30},\n",
       "  mean: 0.99494, std: 0.00105, params: {'min_samples_leaf': 40},\n",
       "  mean: 0.99531, std: 0.00102, params: {'min_samples_leaf': 50},\n",
       "  mean: 0.99540, std: 0.00105, params: {'min_samples_leaf': 60},\n",
       "  mean: 0.99522, std: 0.00080, params: {'min_samples_leaf': 70}],\n",
       " {'min_samples_leaf': 60},\n",
       " 0.9953994971120428)"
      ]
     },
     "execution_count": 8,
     "metadata": {},
     "output_type": "execute_result"
    }
   ],
   "source": [
    "param_test3 = {'min_samples_leaf':range(30,71,10)}\n",
    "grid3 = GridSearchCV(estimator = GradientBoostingClassifier(learning_rate=0.1, n_estimators=80,max_depth =9,min_samples_split=200,max_features='sqrt', subsample=0.8, random_state=10), \n",
    "param_grid = param_test3,n_jobs=4,iid=False, cv=5)\n",
    "grid3.fit(data[features],data[label])\n",
    "grid3.grid_scores_, grid3.best_params_, grid3.best_score_"
   ]
  },
  {
   "cell_type": "code",
   "execution_count": 9,
   "metadata": {
    "collapsed": false
   },
   "outputs": [
    {
     "ename": "TypeError",
     "evalue": "'tuple' object is not callable",
     "output_type": "error",
     "traceback": [
      "\u001b[0;31m---------------------------------------------------------------------------\u001b[0m",
      "\u001b[0;31mTypeError\u001b[0m                                 Traceback (most recent call last)",
      "\u001b[0;32m<ipython-input-9-38232504a547>\u001b[0m in \u001b[0;36m<module>\u001b[0;34m()\u001b[0m\n\u001b[0;32m----> 1\u001b[0;31m \u001b[0mdata\u001b[0m\u001b[0;34m[\u001b[0m\u001b[0mfeatures\u001b[0m\u001b[0;34m]\u001b[0m\u001b[0;34m.\u001b[0m\u001b[0mshape\u001b[0m\u001b[0;34m(\u001b[0m\u001b[0;34m)\u001b[0m\u001b[0;34m\u001b[0m\u001b[0m\n\u001b[0m",
      "\u001b[0;31mTypeError\u001b[0m: 'tuple' object is not callable"
     ]
    }
   ],
   "source": [
    "data[features].shape()"
   ]
  },
  {
   "cell_type": "code",
   "execution_count": 10,
   "metadata": {
    "collapsed": false
   },
   "outputs": [
    {
     "data": {
      "text/html": [
       "<div>\n",
       "<table border=\"1\" class=\"dataframe\">\n",
       "  <thead>\n",
       "    <tr style=\"text-align: right;\">\n",
       "      <th></th>\n",
       "      <th>Virtual</th>\n",
       "      <th>Offset</th>\n",
       "      <th>loc</th>\n",
       "      <th>Import</th>\n",
       "      <th>Imports</th>\n",
       "      <th>var</th>\n",
       "      <th>Forwarder</th>\n",
       "      <th>UINT</th>\n",
       "      <th>LONG</th>\n",
       "      <th>BOOL</th>\n",
       "      <th>...</th>\n",
       "      <th>Img98</th>\n",
       "      <th>Img99</th>\n",
       "      <th>Img100</th>\n",
       "      <th>Img101</th>\n",
       "      <th>Img102</th>\n",
       "      <th>Img103</th>\n",
       "      <th>Img104</th>\n",
       "      <th>Img105</th>\n",
       "      <th>Img106</th>\n",
       "      <th>Img107</th>\n",
       "    </tr>\n",
       "  </thead>\n",
       "  <tbody>\n",
       "    <tr>\n",
       "      <th>0</th>\n",
       "      <td>3</td>\n",
       "      <td>3</td>\n",
       "      <td>689</td>\n",
       "      <td>18</td>\n",
       "      <td>6</td>\n",
       "      <td>890</td>\n",
       "      <td>6</td>\n",
       "      <td>39</td>\n",
       "      <td>17</td>\n",
       "      <td>88</td>\n",
       "      <td>...</td>\n",
       "      <td>8658.0</td>\n",
       "      <td>35148.0</td>\n",
       "      <td>8687.0</td>\n",
       "      <td>55835.0</td>\n",
       "      <td>9078.0</td>\n",
       "      <td>21355.0</td>\n",
       "      <td>56302.0</td>\n",
       "      <td>10380.0</td>\n",
       "      <td>171979.0</td>\n",
       "      <td>162674.0</td>\n",
       "    </tr>\n",
       "    <tr>\n",
       "      <th>1</th>\n",
       "      <td>3</td>\n",
       "      <td>3</td>\n",
       "      <td>583</td>\n",
       "      <td>15</td>\n",
       "      <td>5</td>\n",
       "      <td>1574</td>\n",
       "      <td>5</td>\n",
       "      <td>6</td>\n",
       "      <td>7</td>\n",
       "      <td>30</td>\n",
       "      <td>...</td>\n",
       "      <td>650.0</td>\n",
       "      <td>571.0</td>\n",
       "      <td>718.0</td>\n",
       "      <td>1762.0</td>\n",
       "      <td>642.0</td>\n",
       "      <td>1820.0</td>\n",
       "      <td>1675.0</td>\n",
       "      <td>1100.0</td>\n",
       "      <td>7702.0</td>\n",
       "      <td>6551.0</td>\n",
       "    </tr>\n",
       "    <tr>\n",
       "      <th>2</th>\n",
       "      <td>3</td>\n",
       "      <td>4</td>\n",
       "      <td>2796</td>\n",
       "      <td>15</td>\n",
       "      <td>5</td>\n",
       "      <td>625</td>\n",
       "      <td>5</td>\n",
       "      <td>58</td>\n",
       "      <td>11</td>\n",
       "      <td>152</td>\n",
       "      <td>...</td>\n",
       "      <td>16918.0</td>\n",
       "      <td>29872.0</td>\n",
       "      <td>16910.0</td>\n",
       "      <td>31708.0</td>\n",
       "      <td>9000.0</td>\n",
       "      <td>17586.0</td>\n",
       "      <td>30719.0</td>\n",
       "      <td>30062.0</td>\n",
       "      <td>55331.0</td>\n",
       "      <td>12946.0</td>\n",
       "    </tr>\n",
       "    <tr>\n",
       "      <th>3</th>\n",
       "      <td>3</td>\n",
       "      <td>3</td>\n",
       "      <td>373</td>\n",
       "      <td>27</td>\n",
       "      <td>9</td>\n",
       "      <td>615</td>\n",
       "      <td>9</td>\n",
       "      <td>16</td>\n",
       "      <td>10</td>\n",
       "      <td>34</td>\n",
       "      <td>...</td>\n",
       "      <td>9734.0</td>\n",
       "      <td>10742.0</td>\n",
       "      <td>9755.0</td>\n",
       "      <td>26992.0</td>\n",
       "      <td>9069.0</td>\n",
       "      <td>24885.0</td>\n",
       "      <td>27108.0</td>\n",
       "      <td>13219.0</td>\n",
       "      <td>122247.0</td>\n",
       "      <td>98621.0</td>\n",
       "    </tr>\n",
       "    <tr>\n",
       "      <th>4</th>\n",
       "      <td>3</td>\n",
       "      <td>3</td>\n",
       "      <td>77</td>\n",
       "      <td>12</td>\n",
       "      <td>4</td>\n",
       "      <td>66</td>\n",
       "      <td>4</td>\n",
       "      <td>3</td>\n",
       "      <td>0</td>\n",
       "      <td>5</td>\n",
       "      <td>...</td>\n",
       "      <td>1256.0</td>\n",
       "      <td>962.0</td>\n",
       "      <td>1307.0</td>\n",
       "      <td>3119.0</td>\n",
       "      <td>1172.0</td>\n",
       "      <td>3522.0</td>\n",
       "      <td>3245.0</td>\n",
       "      <td>2001.0</td>\n",
       "      <td>15501.0</td>\n",
       "      <td>11864.0</td>\n",
       "    </tr>\n",
       "  </tbody>\n",
       "</table>\n",
       "<p>5 rows × 1804 columns</p>\n",
       "</div>"
      ],
      "text/plain": [
       "   Virtual  Offset   loc  Import  Imports   var  Forwarder  UINT  LONG  BOOL  \\\n",
       "0        3       3   689      18        6   890          6    39    17    88   \n",
       "1        3       3   583      15        5  1574          5     6     7    30   \n",
       "2        3       4  2796      15        5   625          5    58    11   152   \n",
       "3        3       3   373      27        9   615          9    16    10    34   \n",
       "4        3       3    77      12        4    66          4     3     0     5   \n",
       "\n",
       "     ...       Img98    Img99   Img100   Img101  Img102   Img103   Img104  \\\n",
       "0    ...      8658.0  35148.0   8687.0  55835.0  9078.0  21355.0  56302.0   \n",
       "1    ...       650.0    571.0    718.0   1762.0   642.0   1820.0   1675.0   \n",
       "2    ...     16918.0  29872.0  16910.0  31708.0  9000.0  17586.0  30719.0   \n",
       "3    ...      9734.0  10742.0   9755.0  26992.0  9069.0  24885.0  27108.0   \n",
       "4    ...      1256.0    962.0   1307.0   3119.0  1172.0   3522.0   3245.0   \n",
       "\n",
       "    Img105    Img106    Img107  \n",
       "0  10380.0  171979.0  162674.0  \n",
       "1   1100.0    7702.0    6551.0  \n",
       "2  30062.0   55331.0   12946.0  \n",
       "3  13219.0  122247.0   98621.0  \n",
       "4   2001.0   15501.0   11864.0  \n",
       "\n",
       "[5 rows x 1804 columns]"
      ]
     },
     "execution_count": 10,
     "metadata": {},
     "output_type": "execute_result"
    }
   ],
   "source": [
    "data[features].head()"
   ]
  },
  {
   "cell_type": "code",
   "execution_count": 11,
   "metadata": {
    "collapsed": false
   },
   "outputs": [
    {
     "ename": "SyntaxError",
     "evalue": "invalid syntax (<ipython-input-11-26f1d7e78d6b>, line 3)",
     "output_type": "error",
     "traceback": [
      "\u001b[0;36m  File \u001b[0;32m\"<ipython-input-11-26f1d7e78d6b>\"\u001b[0;36m, line \u001b[0;32m3\u001b[0m\n\u001b[0;31m    param_grid = param_test4,n_jobs=4,iid=False, cv=5)\u001b[0m\n\u001b[0m                                                     ^\u001b[0m\n\u001b[0;31mSyntaxError\u001b[0m\u001b[0;31m:\u001b[0m invalid syntax\n"
     ]
    }
   ],
   "source": [
    "param_test4 = {'max_features':range(100, 1801,100)}\n",
    "GradientBoostingClassifier(learning_rate=0.1, n_estimators=80,max_depth =9,min_samples_split=200, subsample=0.8, random_state=10), min_samples_leaf=60,\n",
    "param_grid = param_test4,n_jobs=4,iid=False, cv=5)\n",
    "grid4.fit(data[features],data[label])\n",
    "grid4.grid_scores_, grid4.best_params_, grid4.best_score_"
   ]
  },
  {
   "cell_type": "code",
   "execution_count": 12,
   "metadata": {
    "collapsed": false
   },
   "outputs": [
    {
     "ename": "TypeError",
     "evalue": "__init__() got an unexpected keyword argument 'min_samples_leaf'",
     "output_type": "error",
     "traceback": [
      "\u001b[0;31m---------------------------------------------------------------------------\u001b[0m",
      "\u001b[0;31mTypeError\u001b[0m                                 Traceback (most recent call last)",
      "\u001b[0;32m<ipython-input-12-3eeb938f5c43>\u001b[0m in \u001b[0;36m<module>\u001b[0;34m()\u001b[0m\n\u001b[1;32m      1\u001b[0m \u001b[0mparam_test4\u001b[0m \u001b[0;34m=\u001b[0m \u001b[0;34m{\u001b[0m\u001b[0;34m'max_features'\u001b[0m\u001b[0;34m:\u001b[0m\u001b[0mrange\u001b[0m\u001b[0;34m(\u001b[0m\u001b[0;36m100\u001b[0m\u001b[0;34m,\u001b[0m \u001b[0;36m1801\u001b[0m\u001b[0;34m,\u001b[0m\u001b[0;36m100\u001b[0m\u001b[0;34m)\u001b[0m\u001b[0;34m}\u001b[0m\u001b[0;34m\u001b[0m\u001b[0m\n\u001b[1;32m      2\u001b[0m grid4 = GridSearchCV(estimator = GradientBoostingClassifier(learning_rate=0.1, n_estimators=80,max_depth =9,min_samples_split=200, subsample=0.8, random_state=10)\n\u001b[0;32m----> 3\u001b[0;31m , min_samples_leaf=60,param_grid = param_test4,n_jobs=4,iid=False, cv=5 )\n\u001b[0m\u001b[1;32m      4\u001b[0m \u001b[0mgrid4\u001b[0m\u001b[0;34m.\u001b[0m\u001b[0mfit\u001b[0m\u001b[0;34m(\u001b[0m\u001b[0mdata\u001b[0m\u001b[0;34m[\u001b[0m\u001b[0mfeatures\u001b[0m\u001b[0;34m]\u001b[0m\u001b[0;34m,\u001b[0m\u001b[0mdata\u001b[0m\u001b[0;34m[\u001b[0m\u001b[0mlabel\u001b[0m\u001b[0;34m]\u001b[0m\u001b[0;34m)\u001b[0m\u001b[0;34m\u001b[0m\u001b[0m\n\u001b[1;32m      5\u001b[0m \u001b[0mgrid4\u001b[0m\u001b[0;34m.\u001b[0m\u001b[0mgrid_scores_\u001b[0m\u001b[0;34m,\u001b[0m \u001b[0mgrid4\u001b[0m\u001b[0;34m.\u001b[0m\u001b[0mbest_params_\u001b[0m\u001b[0;34m,\u001b[0m \u001b[0mgrid4\u001b[0m\u001b[0;34m.\u001b[0m\u001b[0mbest_score_\u001b[0m\u001b[0;34m\u001b[0m\u001b[0m\n",
      "\u001b[0;31mTypeError\u001b[0m: __init__() got an unexpected keyword argument 'min_samples_leaf'"
     ]
    }
   ],
   "source": [
    "param_test4 = {'max_features':range(100, 1801,100)}\n",
    "grid4 = GridSearchCV(estimator = GradientBoostingClassifier(learning_rate=0.1, n_estimators=80,max_depth =9,min_samples_split=200, subsample=0.8, random_state=10)\n",
    ", min_samples_leaf=60,param_grid = param_test4,n_jobs=4,iid=False, cv=5 )\n",
    "grid4.fit(data[features],data[label])\n",
    "grid4.grid_scores_, grid4.best_params_, grid4.best_score_"
   ]
  },
  {
   "cell_type": "code",
   "execution_count": 13,
   "metadata": {
    "collapsed": false
   },
   "outputs": [
    {
     "data": {
      "text/plain": [
       "([mean: 0.99494, std: 0.00105, params: {'max_features': 100},\n",
       "  mean: 0.99604, std: 0.00099, params: {'max_features': 200},\n",
       "  mean: 0.99614, std: 0.00138, params: {'max_features': 300},\n",
       "  mean: 0.99586, std: 0.00139, params: {'max_features': 400},\n",
       "  mean: 0.99623, std: 0.00149, params: {'max_features': 500},\n",
       "  mean: 0.99614, std: 0.00147, params: {'max_features': 600},\n",
       "  mean: 0.99632, std: 0.00120, params: {'max_features': 700},\n",
       "  mean: 0.99586, std: 0.00157, params: {'max_features': 800},\n",
       "  mean: 0.99623, std: 0.00155, params: {'max_features': 900},\n",
       "  mean: 0.99577, std: 0.00168, params: {'max_features': 1000},\n",
       "  mean: 0.99604, std: 0.00135, params: {'max_features': 1100},\n",
       "  mean: 0.99641, std: 0.00155, params: {'max_features': 1200},\n",
       "  mean: 0.99586, std: 0.00116, params: {'max_features': 1300},\n",
       "  mean: 0.99623, std: 0.00149, params: {'max_features': 1400},\n",
       "  mean: 0.99604, std: 0.00118, params: {'max_features': 1500},\n",
       "  mean: 0.99614, std: 0.00129, params: {'max_features': 1600},\n",
       "  mean: 0.99632, std: 0.00123, params: {'max_features': 1700},\n",
       "  mean: 0.99641, std: 0.00141, params: {'max_features': 1800}],\n",
       " {'max_features': 1800},\n",
       " 0.996412391417676)"
      ]
     },
     "execution_count": 13,
     "metadata": {},
     "output_type": "execute_result"
    }
   ],
   "source": [
    "param_test4 = {'max_features':range(100, 1801,100)}\n",
    "grid4 = GridSearchCV(estimator = GradientBoostingClassifier(learning_rate=0.1, n_estimators=80,max_depth =9,min_samples_split=200, subsample=0.8, random_state=10,min_samples_leaf=60)\n",
    ",param_grid = param_test4,n_jobs=4,iid=False, cv=5 )\n",
    "grid4.fit(data[features],data[label])\n",
    "grid4.grid_scores_, grid4.best_params_, grid4.best_score_"
   ]
  },
  {
   "cell_type": "code",
   "execution_count": 14,
   "metadata": {
    "collapsed": false
   },
   "outputs": [
    {
     "data": {
      "text/plain": [
       "([mean: 0.99595, std: 0.00121, params: {'subsample': 0.6},\n",
       "  mean: 0.99669, std: 0.00106, params: {'subsample': 0.7},\n",
       "  mean: 0.99623, std: 0.00118, params: {'subsample': 0.75},\n",
       "  mean: 0.99641, std: 0.00141, params: {'subsample': 0.8},\n",
       "  mean: 0.99604, std: 0.00118, params: {'subsample': 0.85},\n",
       "  mean: 0.99604, std: 0.00135, params: {'subsample': 0.9}],\n",
       " {'subsample': 0.7},\n",
       " 0.9966882958226762)"
      ]
     },
     "execution_count": 14,
     "metadata": {},
     "output_type": "execute_result"
    }
   ],
   "source": [
    "param_test5 = {'subsample':[0.6,0.7,0.75,0.8,0.85,0.9]}\n",
    "grid5 = GridSearchCV(estimator = GradientBoostingClassifier(learning_rate=0.1, n_estimators=80,max_depth =9,min_samples_split=200, random_state=10,min_samples_leaf=60,max_features=1800)\n",
    ",param_grid = param_test5,n_jobs=4,iid=False, cv=5 )\n",
    "grid5.fit(data[features],data[label])\n",
    "grid5.grid_scores_, grid5.best_params_, grid5.best_score_"
   ]
  },
  {
   "cell_type": "code",
   "execution_count": null,
   "metadata": {
    "collapsed": true
   },
   "outputs": [],
   "source": []
  }
 ],
 "metadata": {
  "kernelspec": {
   "display_name": "Python 2",
   "language": "python",
   "name": "python2"
  },
  "language_info": {
   "codemirror_mode": {
    "name": "ipython",
    "version": 2
   },
   "file_extension": ".py",
   "mimetype": "text/x-python",
   "name": "python",
   "nbconvert_exporter": "python",
   "pygments_lexer": "ipython2",
   "version": "2.7.13"
  }
 },
 "nbformat": 4,
 "nbformat_minor": 2
}
