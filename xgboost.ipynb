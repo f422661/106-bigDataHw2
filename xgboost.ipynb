{
 "cells": [
  {
   "cell_type": "code",
   "execution_count": 2,
   "metadata": {
    "collapsed": false,
    "deletable": true,
    "editable": true
   },
   "outputs": [
    {
     "name": "stderr",
     "output_type": "stream",
     "text": [
      "/home/user/anaconda2/lib/python2.7/site-packages/sklearn/cross_validation.py:44: DeprecationWarning: This module was deprecated in version 0.18 in favor of the model_selection module into which all the refactored classes and functions are moved. Also note that the interface of the new CV iterators are different from that of this module. This module will be removed in 0.20.\n",
      "  \"This module will be removed in 0.20.\", DeprecationWarning)\n",
      "/home/user/anaconda2/lib/python2.7/site-packages/sklearn/grid_search.py:43: DeprecationWarning: This module was deprecated in version 0.18 in favor of the model_selection module into which all the refactored classes and functions are moved. This module will be removed in 0.20.\n",
      "  DeprecationWarning)\n"
     ]
    }
   ],
   "source": [
    "import pandas as pd\n",
    "import numpy as np\n",
    "import xgboost as xgb\n",
    "from sklearn import cross_validation, metrics   #Additional scklearn functions\n",
    "from sklearn.grid_search import GridSearchCV   #Perforing grid search\n",
    "\n",
    "data = pd.read_csv(\"LargeTrain.csv\")\n",
    "label = 'Class'\n",
    "features = [x for x in data.columns if x != label]"
   ]
  },
  {
   "cell_type": "code",
   "execution_count": 3,
   "metadata": {
    "collapsed": false,
    "deletable": true,
    "editable": true
   },
   "outputs": [
    {
     "ename": "NameError",
     "evalue": "name 'XGBClassifier' is not defined",
     "output_type": "error",
     "traceback": [
      "\u001b[0;31m---------------------------------------------------------------------------\u001b[0m",
      "\u001b[0;31mNameError\u001b[0m                                 Traceback (most recent call last)",
      "\u001b[0;32m<ipython-input-3-ad1a7c9916e4>\u001b[0m in \u001b[0;36m<module>\u001b[0;34m()\u001b[0m\n\u001b[1;32m      1\u001b[0m \u001b[0mparam_test1\u001b[0m \u001b[0;34m=\u001b[0m \u001b[0;34m{\u001b[0m\u001b[0;34m'max_depth'\u001b[0m\u001b[0;34m:\u001b[0m\u001b[0mrange\u001b[0m\u001b[0;34m(\u001b[0m\u001b[0;36m3\u001b[0m\u001b[0;34m,\u001b[0m\u001b[0;36m10\u001b[0m\u001b[0;34m,\u001b[0m\u001b[0;36m2\u001b[0m\u001b[0;34m)\u001b[0m\u001b[0;34m,\u001b[0m\u001b[0;34m'min_child_weight'\u001b[0m\u001b[0;34m:\u001b[0m\u001b[0mrange\u001b[0m\u001b[0;34m(\u001b[0m\u001b[0;36m1\u001b[0m\u001b[0;34m,\u001b[0m\u001b[0;36m6\u001b[0m\u001b[0;34m,\u001b[0m\u001b[0;36m2\u001b[0m\u001b[0;34m)\u001b[0m\u001b[0;34m}\u001b[0m\u001b[0;34m\u001b[0m\u001b[0m\n\u001b[0;32m----> 2\u001b[0;31m grid1 = GridSearchCV(estimator = XGBClassifier( learning_rate =0.1, n_estimators=140, max_depth=5,\n\u001b[0m\u001b[1;32m      3\u001b[0m  \u001b[0mmin_child_weight\u001b[0m\u001b[0;34m=\u001b[0m\u001b[0;36m1\u001b[0m\u001b[0;34m,\u001b[0m \u001b[0mgamma\u001b[0m\u001b[0;34m=\u001b[0m\u001b[0;36m0\u001b[0m\u001b[0;34m,\u001b[0m \u001b[0msubsample\u001b[0m\u001b[0;34m=\u001b[0m\u001b[0;36m0.8\u001b[0m\u001b[0;34m,\u001b[0m \u001b[0mcolsample_bytree\u001b[0m\u001b[0;34m=\u001b[0m\u001b[0;36m0.8\u001b[0m\u001b[0;34m,\u001b[0m\u001b[0;34m\u001b[0m\u001b[0m\n\u001b[1;32m      4\u001b[0m  objective= 'binary:logistic', nthread=4, scale_pos_weight=1, seed=27), \n\u001b[1;32m      5\u001b[0m  param_grid = param_test1,n_jobs=4,iid=False, cv=5)\n",
      "\u001b[0;31mNameError\u001b[0m: name 'XGBClassifier' is not defined"
     ]
    }
   ],
   "source": [
    "param_test1 = {'max_depth':range(3,10,2),'min_child_weight':range(1,6,2)}\n",
    "grid1 = GridSearchCV(estimator = XGBClassifier( learning_rate =0.1, n_estimators=140, max_depth=5,\n",
    " min_child_weight=1, gamma=0, subsample=0.8, colsample_bytree=0.8,\n",
    " objective= 'binary:logistic', nthread=4, scale_pos_weight=1, seed=27), \n",
    " param_grid = param_test1,n_jobs=4,iid=False, cv=5)\n",
    "grid1.fit(train[predictors],train[target])\n",
    "grid1.grid_scores_, grid1.best_params_, grid1.best_score"
   ]
  },
  {
   "cell_type": "code",
   "execution_count": 4,
   "metadata": {
    "collapsed": true,
    "deletable": true,
    "editable": true
   },
   "outputs": [],
   "source": [
    "from xgboost.sklearn import XGBClassifier"
   ]
  },
  {
   "cell_type": "code",
   "execution_count": 5,
   "metadata": {
    "collapsed": false,
    "deletable": true,
    "editable": true
   },
   "outputs": [
    {
     "ename": "NameError",
     "evalue": "name 'train' is not defined",
     "output_type": "error",
     "traceback": [
      "\u001b[0;31m---------------------------------------------------------------------------\u001b[0m",
      "\u001b[0;31mNameError\u001b[0m                                 Traceback (most recent call last)",
      "\u001b[0;32m<ipython-input-5-ad1a7c9916e4>\u001b[0m in \u001b[0;36m<module>\u001b[0;34m()\u001b[0m\n\u001b[1;32m      4\u001b[0m  objective= 'binary:logistic', nthread=4, scale_pos_weight=1, seed=27), \n\u001b[1;32m      5\u001b[0m  param_grid = param_test1,n_jobs=4,iid=False, cv=5)\n\u001b[0;32m----> 6\u001b[0;31m \u001b[0mgrid1\u001b[0m\u001b[0;34m.\u001b[0m\u001b[0mfit\u001b[0m\u001b[0;34m(\u001b[0m\u001b[0mtrain\u001b[0m\u001b[0;34m[\u001b[0m\u001b[0mpredictors\u001b[0m\u001b[0;34m]\u001b[0m\u001b[0;34m,\u001b[0m\u001b[0mtrain\u001b[0m\u001b[0;34m[\u001b[0m\u001b[0mtarget\u001b[0m\u001b[0;34m]\u001b[0m\u001b[0;34m)\u001b[0m\u001b[0;34m\u001b[0m\u001b[0m\n\u001b[0m\u001b[1;32m      7\u001b[0m \u001b[0mgrid1\u001b[0m\u001b[0;34m.\u001b[0m\u001b[0mgrid_scores_\u001b[0m\u001b[0;34m,\u001b[0m \u001b[0mgrid1\u001b[0m\u001b[0;34m.\u001b[0m\u001b[0mbest_params_\u001b[0m\u001b[0;34m,\u001b[0m \u001b[0mgrid1\u001b[0m\u001b[0;34m.\u001b[0m\u001b[0mbest_score\u001b[0m\u001b[0;34m\u001b[0m\u001b[0m\n",
      "\u001b[0;31mNameError\u001b[0m: name 'train' is not defined"
     ]
    }
   ],
   "source": [
    "param_test1 = {'max_depth':range(3,10,2),'min_child_weight':range(1,6,2)}\n",
    "grid1 = GridSearchCV(estimator = XGBClassifier( learning_rate =0.1, n_estimators=140, max_depth=5,\n",
    " min_child_weight=1, gamma=0, subsample=0.8, colsample_bytree=0.8,\n",
    " objective= 'binary:logistic', nthread=4, scale_pos_weight=1, seed=27), \n",
    " param_grid = param_test1,n_jobs=4,iid=False, cv=5)\n",
    "grid1.fit(train[predictors],train[target])\n",
    "grid1.grid_scores_, grid1.best_params_, grid1.best_score"
   ]
  },
  {
   "cell_type": "code",
   "execution_count": 6,
   "metadata": {
    "collapsed": false,
    "deletable": true,
    "editable": true
   },
   "outputs": [
    {
     "data": {
      "text/plain": [
       "([mean: 0.99678, std: 0.00065, params: {'max_depth': 3, 'min_child_weight': 1},\n",
       "  mean: 0.99678, std: 0.00096, params: {'max_depth': 3, 'min_child_weight': 3},\n",
       "  mean: 0.99650, std: 0.00111, params: {'max_depth': 3, 'min_child_weight': 5},\n",
       "  mean: 0.99706, std: 0.00055, params: {'max_depth': 5, 'min_child_weight': 1},\n",
       "  mean: 0.99669, std: 0.00089, params: {'max_depth': 5, 'min_child_weight': 3},\n",
       "  mean: 0.99632, std: 0.00130, params: {'max_depth': 5, 'min_child_weight': 5},\n",
       "  mean: 0.99687, std: 0.00054, params: {'max_depth': 7, 'min_child_weight': 1},\n",
       "  mean: 0.99678, std: 0.00071, params: {'max_depth': 7, 'min_child_weight': 3},\n",
       "  mean: 0.99696, std: 0.00099, params: {'max_depth': 7, 'min_child_weight': 5},\n",
       "  mean: 0.99678, std: 0.00065, params: {'max_depth': 9, 'min_child_weight': 1},\n",
       "  mean: 0.99660, std: 0.00080, params: {'max_depth': 9, 'min_child_weight': 3},\n",
       "  mean: 0.99687, std: 0.00114, params: {'max_depth': 9, 'min_child_weight': 5}],\n",
       " {'max_depth': 5, 'min_child_weight': 1},\n",
       " 0.997055519479698)"
      ]
     },
     "execution_count": 6,
     "metadata": {},
     "output_type": "execute_result"
    }
   ],
   "source": [
    "param_test1 = {'max_depth':range(3,10,2),'min_child_weight':range(1,6,2)}\n",
    "grid1 = GridSearchCV(estimator = XGBClassifier( learning_rate =0.1, n_estimators=140, max_depth=5,\n",
    " min_child_weight=1, gamma=0, subsample=0.8, colsample_bytree=0.8,\n",
    " objective= 'binary:logistic', nthread=4, scale_pos_weight=1, seed=27), \n",
    " param_grid = param_test1,n_jobs=4,iid=False, cv=5)\n",
    "grid1.fit(data[features],data[label])\n",
    "grid1.grid_scores_, grid1.best_params_, grid1.best_score_"
   ]
  },
  {
   "cell_type": "code",
   "execution_count": 7,
   "metadata": {
    "collapsed": false,
    "deletable": true,
    "editable": true
   },
   "outputs": [
    {
     "data": {
      "text/plain": [
       "([mean: 0.99706, std: 0.00055, params: {'gamma': 0.0},\n",
       "  mean: 0.99696, std: 0.00075, params: {'gamma': 0.1},\n",
       "  mean: 0.99687, std: 0.00079, params: {'gamma': 0.2},\n",
       "  mean: 0.99678, std: 0.00065, params: {'gamma': 0.3},\n",
       "  mean: 0.99669, std: 0.00079, params: {'gamma': 0.4}],\n",
       " {'gamma': 0.0},\n",
       " 0.997055519479698)"
      ]
     },
     "execution_count": 7,
     "metadata": {},
     "output_type": "execute_result"
    }
   ],
   "source": [
    "param_test2 = {'gamma':[i/10.0 for i in range(0,5)]}\n",
    "grid2 = GridSearchCV(estimator = XGBClassifier( learning_rate =0.1, n_estimators=140, max_depth=5,\n",
    "min_child_weight=1, subsample=0.8, colsample_bytree=0.8,\n",
    "objective= 'binary:logistic', nthread=4, scale_pos_weight=1,seed=27), \n",
    "param_grid = param_test2,n_jobs=4,iid=False, cv=5)\n",
    "grid2.fit(data[features],data[label])\n",
    "grid2.grid_scores_, grid2.best_params_, grid2.best_score_"
   ]
  },
  {
   "cell_type": "code",
   "execution_count": 8,
   "metadata": {
    "collapsed": false,
    "deletable": true,
    "editable": true
   },
   "outputs": [
    {
     "ename": "SyntaxError",
     "evalue": "invalid syntax (<ipython-input-8-ef3b4aff5647>, line 6)",
     "output_type": "error",
     "traceback": [
      "\u001b[0;36m  File \u001b[0;32m\"<ipython-input-8-ef3b4aff5647>\"\u001b[0;36m, line \u001b[0;32m6\u001b[0m\n\u001b[0;31m    min_child_weight=1, subsample=0.8, colsample_bytree=0.8,\u001b[0m\n\u001b[0m                   ^\u001b[0m\n\u001b[0;31mSyntaxError\u001b[0m\u001b[0;31m:\u001b[0m invalid syntax\n"
     ]
    }
   ],
   "source": [
    "param_test3 = {\n",
    " 'subsample':[i/10.0 for i in range(6,10)],\n",
    " 'colsample_bytree':[i/10.0 for i in range(6,10)]\n",
    "}\n",
    "grid3 = GridSearchCV(estimator = XGBClassifier( learning_rate =0.1, n_estimators=140, max_depth=5,gamma=0.0\n",
    "min_child_weight=1, subsample=0.8, colsample_bytree=0.8,\n",
    "objective= 'binary:logistic', nthread=4, scale_pos_weight=1,seed=27), \n",
    "param_grid = param_test3,n_jobs=4,iid=False, cv=5)\n",
    "grid3.fit(data[features],data[label])\n",
    "grid3.grid_scores_, grid3.best_params_, grid3.best_score_"
   ]
  },
  {
   "cell_type": "code",
   "execution_count": 9,
   "metadata": {
    "collapsed": false,
    "deletable": true,
    "editable": true
   },
   "outputs": [
    {
     "data": {
      "text/plain": [
       "([mean: 0.99678, std: 0.00140, params: {'subsample': 0.6, 'colsample_bytree': 0.6},\n",
       "  mean: 0.99678, std: 0.00087, params: {'subsample': 0.7, 'colsample_bytree': 0.6},\n",
       "  mean: 0.99678, std: 0.00087, params: {'subsample': 0.8, 'colsample_bytree': 0.6},\n",
       "  mean: 0.99687, std: 0.00089, params: {'subsample': 0.9, 'colsample_bytree': 0.6},\n",
       "  mean: 0.99650, std: 0.00111, params: {'subsample': 0.6, 'colsample_bytree': 0.7},\n",
       "  mean: 0.99687, std: 0.00074, params: {'subsample': 0.7, 'colsample_bytree': 0.7},\n",
       "  mean: 0.99687, std: 0.00074, params: {'subsample': 0.8, 'colsample_bytree': 0.7},\n",
       "  mean: 0.99687, std: 0.00054, params: {'subsample': 0.9, 'colsample_bytree': 0.7},\n",
       "  mean: 0.99669, std: 0.00094, params: {'subsample': 0.6, 'colsample_bytree': 0.8},\n",
       "  mean: 0.99696, std: 0.00069, params: {'subsample': 0.7, 'colsample_bytree': 0.8},\n",
       "  mean: 0.99706, std: 0.00055, params: {'subsample': 0.8, 'colsample_bytree': 0.8},\n",
       "  mean: 0.99696, std: 0.00047, params: {'subsample': 0.9, 'colsample_bytree': 0.8},\n",
       "  mean: 0.99650, std: 0.00111, params: {'subsample': 0.6, 'colsample_bytree': 0.9},\n",
       "  mean: 0.99687, std: 0.00084, params: {'subsample': 0.7, 'colsample_bytree': 0.9},\n",
       "  mean: 0.99678, std: 0.00077, params: {'subsample': 0.8, 'colsample_bytree': 0.9},\n",
       "  mean: 0.99696, std: 0.00075, params: {'subsample': 0.9, 'colsample_bytree': 0.9}],\n",
       " {'colsample_bytree': 0.8, 'subsample': 0.8},\n",
       " 0.997055519479698)"
      ]
     },
     "execution_count": 9,
     "metadata": {},
     "output_type": "execute_result"
    }
   ],
   "source": [
    "param_test3 = {\n",
    " 'subsample':[i/10.0 for i in range(6,10)],\n",
    " 'colsample_bytree':[i/10.0 for i in range(6,10)]\n",
    "}\n",
    "grid3 = GridSearchCV(estimator = XGBClassifier( learning_rate =0.1, n_estimators=140, max_depth=5,gamma=0.0,\n",
    "min_child_weight=1, subsample=0.8, colsample_bytree=0.8,\n",
    "objective= 'binary:logistic', nthread=4, scale_pos_weight=1,seed=27), \n",
    "param_grid = param_test3,n_jobs=4,iid=False, cv=5)\n",
    "grid3.fit(data[features],data[label])\n",
    "grid3.grid_scores_, grid3.best_params_, grid3.best_score_"
   ]
  },
  {
   "cell_type": "code",
   "execution_count": 10,
   "metadata": {
    "collapsed": false,
    "deletable": true,
    "editable": true
   },
   "outputs": [
    {
     "data": {
      "text/plain": [
       "([mean: 0.99696, std: 0.00047, params: {'reg_alpha': 1e-05},\n",
       "  mean: 0.99687, std: 0.00061, params: {'reg_alpha': 0.01},\n",
       "  mean: 0.99687, std: 0.00061, params: {'reg_alpha': 0.1},\n",
       "  mean: 0.99660, std: 0.00095, params: {'reg_alpha': 1},\n",
       "  mean: 0.99006, std: 0.00161, params: {'reg_alpha': 100}],\n",
       " {'reg_alpha': 1e-05},\n",
       " 0.9969636921151434)"
      ]
     },
     "execution_count": 10,
     "metadata": {},
     "output_type": "execute_result"
    }
   ],
   "source": [
    "param_test4 = {\n",
    " 'reg_alpha':[1e-5, 1e-2, 0.1, 1, 100]\n",
    "}\n",
    "grid4 = GridSearchCV(estimator = XGBClassifier( learning_rate =0.1, n_estimators=140, max_depth=5,gamma=0.0,\n",
    "min_child_weight=1, subsample=0.8, colsample_bytree=0.8,\n",
    "objective= 'binary:logistic', nthread=4, scale_pos_weight=1,seed=27), \n",
    "param_grid = param_test4,n_jobs=4,iid=False, cv=5)\n",
    "grid4.fit(data[features],data[label])\n",
    "grid4.grid_scores_, grid4.best_params_, grid4.best_score_"
   ]
  },
  {
   "cell_type": "code",
   "execution_count": 11,
   "metadata": {
    "collapsed": false,
    "deletable": true,
    "editable": true
   },
   "outputs": [
    {
     "data": {
      "text/plain": [
       "([mean: 0.99687, std: 0.00054, params: {'reg_lambda': 1e-05},\n",
       "  mean: 0.99696, std: 0.00047, params: {'reg_lambda': 0.01},\n",
       "  mean: 0.99687, std: 0.00054, params: {'reg_lambda': 0.1},\n",
       "  mean: 0.99696, std: 0.00047, params: {'reg_lambda': 1},\n",
       "  mean: 0.99604, std: 0.00138, params: {'reg_lambda': 100}],\n",
       " {'reg_lambda': 0.01},\n",
       " 0.9969636921151434)"
      ]
     },
     "execution_count": 11,
     "metadata": {},
     "output_type": "execute_result"
    }
   ],
   "source": [
    "param_test5 = {\n",
    " 'reg_lambda':[1e-5, 1e-2, 0.1, 1, 100]\n",
    "}\n",
    "grid5 = GridSearchCV(estimator = XGBClassifier( learning_rate =0.1, n_estimators=140, max_depth=5,gamma=0.0,reg_alpha=1e-05,\n",
    "min_child_weight=1, subsample=0.8, colsample_bytree=0.8,\n",
    "objective= 'binary:logistic', nthread=4, scale_pos_weight=1,seed=27), \n",
    "param_grid = param_test5,n_jobs=4,iid=False, cv=5)\n",
    "grid5.fit(data[features],data[label])\n",
    "grid5.grid_scores_, grid5.best_params_, grid5.best_score_"
   ]
  },
  {
   "cell_type": "code",
   "execution_count": null,
   "metadata": {
    "collapsed": true,
    "deletable": true,
    "editable": true
   },
   "outputs": [],
   "source": []
  }
 ],
 "metadata": {
  "kernelspec": {
   "display_name": "Python 2",
   "language": "python",
   "name": "python2"
  },
  "language_info": {
   "codemirror_mode": {
    "name": "ipython",
    "version": 2
   },
   "file_extension": ".py",
   "mimetype": "text/x-python",
   "name": "python",
   "nbconvert_exporter": "python",
   "pygments_lexer": "ipython2",
   "version": "2.7.13"
  }
 },
 "nbformat": 4,
 "nbformat_minor": 2
}
